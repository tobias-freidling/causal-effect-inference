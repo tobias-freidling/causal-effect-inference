{
 "cells": [
  {
   "cell_type": "markdown",
   "metadata": {},
   "source": [
    "# Confidence intervals via Constrained Inference - Benchmark data\n",
    "\n",
    "This notebook uses applies the code developed for calculating confidence intervals for the causal effect between two variables under the equal variance assumption and applies it to 5 benchmark data pairs. It is assumed that the data follows a Gaussian distribution and the relationship between the two variables is linear.\n",
    "\n",
    "The standard approach as well as the two-step approach for $\\alpha_1 \\in \\{0.01, 0.02, 0.03\\}$ are investigated.\n",
    "\n",
    "Loading the required libraries:"
   ]
  },
  {
   "cell_type": "code",
   "execution_count": 1,
   "metadata": {},
   "outputs": [],
   "source": [
    "import numpy as np\n",
    "import pandas as pd\n",
    "import matplotlib\n",
    "import matplotlib.pyplot as plt\n",
    "from scipy.stats import chi2, norm, multivariate_normal\n",
    "from scipy.stats import probplot\n",
    "from scipy.optimize import minimize\n",
    "from pynverse import inversefunc"
   ]
  },
  {
   "cell_type": "markdown",
   "metadata": {},
   "source": [
    "## Methods for calculation of confidence intervals\n",
    "(Identical to other notebook)"
   ]
  },
  {
   "cell_type": "code",
   "execution_count": 2,
   "metadata": {
    "code_folding": [
     0
    ]
   },
   "outputs": [],
   "source": [
    "def empirical_sigmas(x1, x2):\n",
    "    s11 = np.mean(x1**2)\n",
    "    s12 = np.mean(x1*x2)\n",
    "    s22 = np.mean(x2**2)\n",
    "    return s11, s12, s22"
   ]
  },
  {
   "cell_type": "code",
   "execution_count": 3,
   "metadata": {
    "code_folding": [
     0,
     6
    ]
   },
   "outputs": [],
   "source": [
    "def llh(x1, x2):\n",
    "    s11, s12, s22 = empirical_sigmas(x1, x2)\n",
    "    RV = multivariate_normal([0, 0], [[s11, s12], [s12, s22]])\n",
    "    L_hat = RV.logpdf(np.stack([x1, x2], axis = 1))\n",
    "    return np.sum(L_hat)\n",
    "\n",
    "def nllh_inv(x1, x2):\n",
    "    \"\"\"\n",
    "    a[0], a[1], a[2] <=> k1, k2, k3\n",
    "    \"\"\"\n",
    "    eps = 1e-6\n",
    "    n = x1.shape[0]\n",
    "    C = 2*n*np.log(2*np.pi)\n",
    "    nllh = lambda a: np.inf if a[0]*a[2] - a[1]**2 <= 0\\\n",
    "                            else 0.5 * (C - n*np.log(a[0]*a[2] - a[1]**2)\n",
    "                                        + np.sum(a[0]*x1**2 + 2*a[1]*x1*x2 + a[2]*x2**2))\n",
    "    \n",
    "    grad_nllh = lambda a: np.array([- np.sign(a[2]) * np.inf if a[0]*a[2] - a[1]**2 <= 0\\\n",
    "                                    else 0.5 * (-n*a[2]/(a[0]*a[2]-a[1]**2) + np.sum(x1**2)),\n",
    "                                    np.sign(a[1]) * np.inf if a[0]*a[2] - a[1]**2 <= 0\\\n",
    "                                    else 1.0 * (n*a[1]/(a[0]*a[2]-a[1]**2) + np.sum(x1*x2)),\n",
    "                                    -np.sign(a[0]) * np.inf if a[0]*a[2] - a[1]**2 <= 0\\\n",
    "                                    else 0.5 * (-n*a[0]/(a[0]*a[2]-a[1]**2) + np.sum(x2**2))])\n",
    "    return nllh, grad_nllh"
   ]
  },
  {
   "cell_type": "code",
   "execution_count": 4,
   "metadata": {
    "code_folding": [
     0,
     25
    ]
   },
   "outputs": [],
   "source": [
    "def ineq_constraints(kind):\n",
    "    assert kind in ['cov', 's11 >= s22', 's11 <= s22']\n",
    "    eps = 1e-7\n",
    "    if kind == 's11 >= s22':\n",
    "        fun = lambda a: np.array([a[0], a[2],\n",
    "                                  a[0]*a[2] - a[1]**2 - eps,\n",
    "                                  a[2] - a[0]])\n",
    "        jac = lambda a: np.array([[1.0, 0.0, 0.0], [0.0, 0.0, 1.0],\n",
    "                                  [a[2], -2*a[1], a[0]],\n",
    "                                  [-1.0, 0.0, 1.0]])\n",
    "    elif kind == 's11 <= s22':\n",
    "        fun = lambda a: np.array([a[0], a[2],\n",
    "                                  a[0]*a[2] - a[1]**2 - eps,\n",
    "                                  a[0] - a[2]])\n",
    "        jac = lambda a: np.array([[1.0, 0.0, 0.0], [0.0, 0.0, 1.0],\n",
    "                                  [a[2], -2*a[1], a[0]],\n",
    "                                  [1.0, 0.0, -1.0]])\n",
    "    elif kind == 'cov':\n",
    "        fun = lambda a: np.array([a[0], a[2],\n",
    "                                  a[0]*a[2] - a[1]**2 - eps])\n",
    "        jac = lambda a: np.array([[1.0, 0.0, 0.0], [0.0, 0.0, 1.0],\n",
    "                                  [a[2], -2*a[1], a[0]]])\n",
    "    ineq_cons = {'type' : 'ineq', 'fun' : fun, 'jac' : jac}\n",
    "    return ineq_cons\n",
    "\n",
    "def eq_constraints(c0):\n",
    "    fun = lambda a: np.array([c0*a[0] + a[1]])\n",
    "    jac = lambda a: np.array([c0, 1.0, 0.0])\n",
    "    eq_cons = {'type': 'eq', 'fun': fun, 'jac': jac}\n",
    "    return eq_cons"
   ]
  },
  {
   "cell_type": "code",
   "execution_count": 5,
   "metadata": {
    "code_folding": [
     0
    ]
   },
   "outputs": [],
   "source": [
    "def statistic(x1, x2, c0):\n",
    "    # Determining constraints for optimisation   \n",
    "    if np.abs(c0) >= 1:\n",
    "        ineq_cons = ineq_constraints('cov')\n",
    "        eq_cons = eq_constraints(c0)\n",
    "        constraints = [eq_cons, ineq_cons]\n",
    "    elif 0 < np.abs(c0) < 1:\n",
    "        ineq_cons = ineq_constraints('s11 >= s22')\n",
    "        eq_cons = eq_constraints(c0)\n",
    "        constraints = [eq_cons, ineq_cons]\n",
    "    else:\n",
    "        ineq_cons = ineq_constraints('s11 <= s22')\n",
    "        constraints = ineq_cons\n",
    "        \n",
    "    # estimates of concentration matrix entries\n",
    "    s11, s12, s22 = empirical_sigmas(x1, x2)\n",
    "    a0 = np.array([s22, -s12, s11]) / (s11 * s22 - s12**2)\n",
    "    # Getting function handles and minimisation with SLSQP\n",
    "    nllh, grad_nllh = nllh_inv(x1, x2)\n",
    "    res = minimize(nllh, a0, method = 'SLSQP', jac = grad_nllh,\n",
    "                   constraints = constraints,\n",
    "                   options = {'ftol' : 1e-9, 'maxiter': 1000})\n",
    "    return 2 * (llh(x1, x2) + res.fun)"
   ]
  },
  {
   "cell_type": "code",
   "execution_count": 6,
   "metadata": {
    "code_folding": [
     0
    ]
   },
   "outputs": [],
   "source": [
    "def get_ci(x1, x2, alpha, low, high, h, two_step, alpha_1):\n",
    "    \"\"\"\n",
    "    :param x1, x2: data\n",
    "    :param alpha: allowed type-I error\n",
    "    :param low, high: range for testing c0's\n",
    "    :param h: step length / distance between neighbouring c0's\n",
    "    :param two_step: (bool) apply two-step approach\n",
    "    :param alpha_1: alpha for first step of two-step procedure\n",
    "    :returns: piecewise confidence interval\n",
    "    \"\"\"\n",
    "    # 1st step\n",
    "    if two_step:\n",
    "        assert alpha_1 < alpha\n",
    "    eps = 1e-6\n",
    "    # Getting quantiles\n",
    "    comp_1 = chi2.ppf(1 - alpha, df = 1) \n",
    "    if two_step:\n",
    "        n = x1.shape[0]\n",
    "        s11, s12, s22 = empirical_sigmas(x1, x2)\n",
    "        # We use that simulated data is normal\n",
    "        std = np.sqrt(2 * (s11**2 - 2 * s12 + s22**2))\n",
    "        q = norm.ppf(1 - alpha_1/2)\n",
    "        ci = (s11 - s22) + np.array([-q, q]) * std / np.sqrt(n)\n",
    "        if ci[0] <= 0 <= ci[1]:\n",
    "            comp_01 = chi2.ppf(1 - 2 * (alpha-alpha_1), df = 1)\n",
    "            cdf_12 = lambda x: 0.5 * (chi2.cdf(x, df = 1) + chi2.cdf(x, df = 2))\n",
    "            comp_12 = inversefunc(cdf_12, y_values = [1-(alpha-alpha_1)])[0]\n",
    "        else:\n",
    "            comp_01 = eps\n",
    "            comp_12 = chi2.ppf(1 - (alpha-alpha_1), df = 1)\n",
    "    else:\n",
    "        comp_01 = chi2.ppf(1 - 2 * alpha, df = 1)\n",
    "        cdf_12 = lambda x: 0.5 * (chi2.cdf(x, df = 1) + chi2.cdf(x, df = 2))\n",
    "        comp_12 = inversefunc(cdf_12, y_values = [1-alpha])[0]\n",
    "    \n",
    "    # 2nd step\n",
    "    S1_low, S1_high, S2 = [], [], []\n",
    "    c0 = low\n",
    "    while c0 <= high:\n",
    "        s = statistic(x1, x2, c0)\n",
    "        if c0 <= -1 and s <= comp_1:\n",
    "            S1_low.append(c0)\n",
    "        elif c0 >= 1 and s <= comp_1:\n",
    "            S1_high.append(c0)\n",
    "        elif 0 < np.abs(c0) < 1 and s <= comp_12:\n",
    "            S2.append(c0)\n",
    "        c0 = c0 + h\n",
    "    \n",
    "    def extract_ci(S):\n",
    "        return np.array([min(S) - 0.5*h, max(S) + 0.5*h]) if len(S) > 0 else None\n",
    "    I1_low = extract_ci(S1_low)\n",
    "    I1_high = extract_ci(S1_high)\n",
    "    I2 = extract_ci(S2)\n",
    "    \n",
    "    if low <= 0 <= high:\n",
    "        s = statistic(x1, x2, 0)\n",
    "        S3 = s <= comp_01\n",
    "    else:\n",
    "        S3 = False\n",
    "    # I1_low, I1_high, I2 are nd-arrays; S3 is bool\n",
    "    return I1_low, I1_high, I2, S3"
   ]
  },
  {
   "cell_type": "code",
   "execution_count": 7,
   "metadata": {
    "code_folding": [
     0
    ]
   },
   "outputs": [],
   "source": [
    "def estimate_causal_effect(x1, x2):\n",
    "    s11, s12, s22 = empirical_sigmas(x1, x2)\n",
    "    if s11 > s22:\n",
    "        return s12 / s22\n",
    "    else:\n",
    "        return 0"
   ]
  },
  {
   "cell_type": "markdown",
   "metadata": {},
   "source": [
    "## Data\n",
    "\n",
    "We use the [CauseEffectPairs](https://dl.acm.org/doi/pdf/10.5555/2946645.2946677?download=true) dataset which consists of pairs of variables for which the underlying causal relationship is known.\n",
    "\n",
    "Since we suppose that the error term for both variables has equal variance and that the relationship between them is of linear nature, we have to limit our investigation to pairs where these assumptions are plausible. Hence, we consider the pairs `0066`, `0067` (stock returns of 2 different companies), `0076` (population growth and food consumption), `0089` and `0090` (root decomposition in different months).\n",
    "\n",
    "We read in the data, centre it and scale both variables by the *same* factor preserving the variance difference but accounting for different scales between the pairs considered:"
   ]
  },
  {
   "cell_type": "code",
   "execution_count": 9,
   "metadata": {},
   "outputs": [],
   "source": [
    "names = ['0066', '0067', '0089', '0090', '0076']\n",
    "aliases = ['stock1', 'stock2', 'root1', 'root2', 'food']\n",
    "n_data = len(names)\n",
    "data = dict() \n",
    "for name, alias in zip(names, aliases):\n",
    "    file_name = 'data/pair{}.txt'.format(name)\n",
    "    df = pd.read_csv(file_name, sep = '\\s+', header = None,\n",
    "                     names = ['x', 'y'], engine = 'python')\n",
    "    d = df[['x', 'y']].values\n",
    "    # transformation: centring and scaling\n",
    "    data[alias] = (d - np.mean(d, axis=0)) / np.std(d[:,0])"
   ]
  },
  {
   "cell_type": "markdown",
   "metadata": {},
   "source": [
    "Since we also assume the distributions to be Gaussian, we use QQ-plots to verify this assumption:"
   ]
  },
  {
   "cell_type": "code",
   "execution_count": 33,
   "metadata": {},
   "outputs": [
    {
     "data": {
      "image/png": "[encoded data removed]",
      "text/plain": [
       "<Figure size 864x432 with 10 Axes>"
      ]
     },
     "metadata": {
      "needs_background": "light"
     },
     "output_type": "display_data"
    }
   ],
   "source": [
    "fig, axes = plt.subplots(nrows = 3, ncols = 4, **{'figsize' : (12, 6)})\n",
    "for i, (alias, d) in enumerate(data.items()):\n",
    "    r = i//2\n",
    "    c = (i%2) * 2\n",
    "    probplot(d[:,0], dist = \"norm\", plot = axes[r, c])\n",
    "    axes[r, c].get_lines()[1].set_linewidth(2.5)\n",
    "    axes[r, c].set_title(alias + \" - \" + r\"$X_1$\", {'fontsize' : 'large'})\n",
    "    axes[r, c].set_xlabel(None)\n",
    "    axes[r, c].set_ylabel(None)\n",
    "    probplot(d[:,1], dist = \"norm\", plot = axes[r, c+1])\n",
    "    axes[r, c+1].get_lines()[1].set_linewidth(2.5)\n",
    "    axes[r, c+1].set_title(alias + \" - \" + r\"$X_2$\", {'fontsize' : 'large'})\n",
    "    axes[r, c+1].set_xlabel(None)\n",
    "    axes[r, c+1].set_ylabel(None)\n",
    "\n",
    "fig.delaxes(axes[2, 2])\n",
    "fig.delaxes(axes[2, 3])\n",
    "fig.text(0.5, 0.05, 'Theoretical quantiles', ha = 'center', size = 'x-large')\n",
    "fig.text(0.05, 0.5, 'Ordered values', va = 'center', rotation='vertical', size = 'x-large')\n",
    "fig.tight_layout()\n",
    "plt.subplots_adjust(left = 0.1, bottom = 0.13, right = 0.9)\n",
    "fig.savefig(\"qq_plots.eps\")"
   ]
  },
  {
   "cell_type": "markdown",
   "metadata": {},
   "source": [
    "## Confidence intervals\n",
    "Having verified all assumptions, we implement a method that calculates the confidence interval and an estimate of the causal effect."
   ]
  },
  {
   "cell_type": "code",
   "execution_count": 54,
   "metadata": {},
   "outputs": [],
   "source": [
    "def get_cis(direction, alpha, low, high, h):\n",
    "    assert direction in ['X1 <- X2', 'X1 -> X2']\n",
    "    ces = dict()\n",
    "    cis = []\n",
    "    for alpha_a in [0, 0.01, 0.02, 0.03]:\n",
    "        ci = dict()\n",
    "        for alias, d in data.items():\n",
    "            if direction == 'X1 <- X2':\n",
    "                x1, x2 = d[:,0], d[:,1]\n",
    "            else:\n",
    "                x1, x2 = d[:,1], d[:,0]\n",
    "            ces[alias] = estimate_causal_effect(x1, x2)\n",
    "            if alpha_a == 0:\n",
    "                ci[alias] = get_ci(x1, x2, alpha, low, high, h, False, 0)\n",
    "            else:\n",
    "                ci[alias] = get_ci(x1, x2, alpha, low, high, h, True, alpha_a)\n",
    "        cis.append(ci)\n",
    "    return cis, ces"
   ]
  },
  {
   "cell_type": "markdown",
   "metadata": {},
   "source": [
    "Moreover, we develop a method for visualising the results:"
   ]
  },
  {
   "cell_type": "code",
   "execution_count": 83,
   "metadata": {},
   "outputs": [],
   "source": [
    "def visualise(cis, ces):\n",
    "    w = 0.1\n",
    "    x = np.arange(len(aliases)) - 1.5 * w\n",
    "    labels = [r\"standard\", r\"two-step, $\\alpha_1 = 0.01$\",\n",
    "              r\"two-step, $\\alpha_1 = 0.02$\", r\"two-step, $\\alpha_1 = 0.03$\"]\n",
    "    cmap = plt.get_cmap(\"tab10\")\n",
    "    fig, ax = plt.subplots(**{'figsize' : (13, 5)})\n",
    "    ll, bb, _, hh = ax.get_position().bounds\n",
    "    ax.set_position([ll, bb, 0.6, hh])\n",
    "    for i, ci in enumerate(cis):\n",
    "        for pos, (alias, t) in zip(x, ci.items()):\n",
    "            if i == 0:\n",
    "                ax.hlines(y = ces[alias], xmin = pos - 0.5*w,\n",
    "                           xmax = pos + 3.5*w, color = 'black')\n",
    "            for j, I in enumerate(t):\n",
    "                if j < 3 and I is not None:\n",
    "                    ax.bar(pos+i*w, bottom = I[0], height = I[1]-I[0],\n",
    "                           width = w/3, label = labels[i], color = cmap(i))\n",
    "                elif I:\n",
    "                    ax.scatter(pos+i*w, 0, label = labels[i], color = cmap(i))\n",
    "    ax.tick_params(labelsize = 'large')\n",
    "    ax.set_xticks(x + 1.5*w)\n",
    "    ax.set_xticklabels(aliases, fontsize = 'x-large')\n",
    "    patches = [matplotlib.patches.Patch(color = cmap(i), label = l) for i, l in enumerate(labels)]\n",
    "    ax.legend(handles = patches, bbox_to_anchor = (1.02, 1),\n",
    "              loc = 'upper left', borderaxespad = 0., fontsize = 'large')\n",
    "    fig.savefig(\"figure.eps\")"
   ]
  },
  {
   "cell_type": "markdown",
   "metadata": {},
   "source": [
    "Calculation and visualisation of the confidence intervals for the causal effect of $X_2$ on $X_1$:"
   ]
  },
  {
   "cell_type": "code",
   "execution_count": 55,
   "metadata": {},
   "outputs": [],
   "source": [
    "cis1, ces1 = get_cis('X1 <- X2', 0.05, -3, 3, 0.005)"
   ]
  },
  {
   "cell_type": "code",
   "execution_count": 84,
   "metadata": {},
   "outputs": [
    {
     "name": "stderr",
     "output_type": "stream",
     "text": [
      "The PostScript backend does not support transparency; partially transparent artists will be rendered opaque.\n",
      "The PostScript backend does not support transparency; partially transparent artists will be rendered opaque.\n"
     ]
    },
    {
     "data": {
      "image/png": "[encoded data removed]",
      "text/plain": [
       "<Figure size 936x360 with 1 Axes>"
      ]
     },
     "metadata": {
      "needs_background": "light"
     },
     "output_type": "display_data"
    }
   ],
   "source": [
    "visualise(cis1, ces1)"
   ]
  },
  {
   "cell_type": "markdown",
   "metadata": {},
   "source": [
    "Calculation and visualisation of the confidence intervals for the causal effect of $X_1$ on $X_2$:"
   ]
  },
  {
   "cell_type": "code",
   "execution_count": 58,
   "metadata": {},
   "outputs": [],
   "source": [
    "cis2, ces2 = get_cis('X1 -> X2', 0.05, -3, 3, 0.005)"
   ]
  },
  {
   "cell_type": "code",
   "execution_count": 85,
   "metadata": {},
   "outputs": [
    {
     "name": "stderr",
     "output_type": "stream",
     "text": [
      "The PostScript backend does not support transparency; partially transparent artists will be rendered opaque.\n",
      "The PostScript backend does not support transparency; partially transparent artists will be rendered opaque.\n"
     ]
    },
    {
     "data": {
      "image/png": "[encoded data removed]",
      "text/plain": [
       "<Figure size 936x360 with 1 Axes>"
      ]
     },
     "metadata": {
      "needs_background": "light"
     },
     "output_type": "display_data"
    }
   ],
   "source": [
    "visualise(cis2, ces2)"
   ]
  },
  {
   "cell_type": "markdown",
   "metadata": {},
   "source": [
    "## Analysis\n",
    "We know that the true causal relationships are directed as follows:\n",
    "* `stock1`: $X_1 \\rightarrow X_2$\n",
    "* `stock2`: $X_1 \\rightarrow X_2$\n",
    "* `root1`: $X_1 \\leftarrow X_2$\n",
    "* `root2`: $X_1 \\leftarrow X_2$\n",
    "* `food`: $X_1 \\rightarrow X_2$\n",
    "\n",
    "All of these relationships were retrieved correctly. In terms of the length of the confidence intervals, for most cases the considered approaches are very similar but in some situations the two-step approach with $\\alpha_1 = 0.01$ yields a considerably better result.\n",
    "\n",
    "Interestingly, the confidence intervals on the `root1` dataset are very discontinuous. This can be traced back to the fact that the empirical variance of $X_1$ and $X_2$ are almost equal. Consequently, the direction of the causal relationship is very hard to deduce which is reflected in the confidence intervals."
   ]
  },
  {
   "cell_type": "code",
   "execution_count": 63,
   "metadata": {},
   "outputs": [
    {
     "name": "stdout",
     "output_type": "stream",
     "text": [
      "Variance of X_1:  1.0\n",
      "Variance of X_2:  1.0105600067254246\n"
     ]
    }
   ],
   "source": [
    "x1, x2 = data['stock1'][:,0], data['stock1'][:,1]\n",
    "s11, _, s22 = empirical_sigmas(x1, x2)\n",
    "print(\"Variance of X_1: \", s11)\n",
    "print(\"Variance of X_2: \", s22)"
   ]
  }
 ],
 "metadata": {
  "kernelspec": {
   "display_name": "Python 3",
   "language": "python",
   "name": "python3"
  },
  "language_info": {
   "codemirror_mode": {
    "name": "ipython",
    "version": 3
   },
   "file_extension": ".py",
   "mimetype": "text/x-python",
   "name": "python",
   "nbconvert_exporter": "python",
   "pygments_lexer": "ipython3",
   "version": "3.7.3"
  }
 },
 "nbformat": 4,
 "nbformat_minor": 2
}
