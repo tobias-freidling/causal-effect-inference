{
 "cells": [
  {
   "cell_type": "markdown",
   "metadata": {},
   "source": [
    "# Confidence intervals via Constrained Inference - Simulated data\n",
    "\n",
    "This notebook develops the code for calculating confidence intervals for the causal effect between two variables under the equal variance assumption. It is assumed that the underlying distribution is Gaussian.\n",
    "\n",
    "Both approaches, standard and two-step, are implemented and can be investigated for different sample sizes $n$, causal effects $\\beta$ and variances $\\sigma^2$."
   ]
  },
  {
   "cell_type": "markdown",
   "metadata": {},
   "source": [
    "Importing packages:"
   ]
  },
  {
   "cell_type": "code",
   "execution_count": 17,
   "metadata": {},
   "outputs": [],
   "source": [
    "import numpy as np\n",
    "import matplotlib\n",
    "import matplotlib.pyplot as plt\n",
    "from scipy.stats import chi2, norm, multivariate_normal\n",
    "from scipy.optimize import minimize\n",
    "from pynverse import inversefunc\n",
    "from joblib import Parallel, delayed"
   ]
  },
  {
   "cell_type": "markdown",
   "metadata": {},
   "source": [
    "Creation of artifical data and estimation of elements of covariance matrix:"
   ]
  },
  {
   "cell_type": "code",
   "execution_count": 18,
   "metadata": {
    "code_folding": [
     6
    ]
   },
   "outputs": [],
   "source": [
    "def data_generation(n, beta, sigma, x1_dep = True, seed = 2020):\n",
    "    np.random.seed(seed)\n",
    "    y1 = np.random.normal(0, np.sqrt(sigma), n)\n",
    "    y2 = beta * y1 + np.random.normal(0, np.sqrt(sigma), n)\n",
    "    x1, x2 = (y2, y1) if x1_dep else (y1, y2)\n",
    "    return x1, x2\n",
    "\n",
    "def empirical_sigmas(x1, x2):\n",
    "    s11 = np.mean(x1**2)\n",
    "    s12 = np.mean(x1*x2)\n",
    "    s22 = np.mean(x2**2)\n",
    "    return s11, s12, s22"
   ]
  },
  {
   "cell_type": "markdown",
   "metadata": {},
   "source": [
    "## Test statistic\n",
    "\n",
    "Calculation of the log-likelihood with standard parametrisation and the negative log-likelihood with the concentration matrix $K$ parametrisation:"
   ]
  },
  {
   "cell_type": "code",
   "execution_count": 19,
   "metadata": {
    "code_folding": []
   },
   "outputs": [],
   "source": [
    "def llh(x1, x2):\n",
    "    s11, s12, s22 = empirical_sigmas(x1, x2)\n",
    "    RV = multivariate_normal([0, 0], [[s11, s12], [s12, s22]])\n",
    "    L_hat = RV.logpdf(np.stack([x1, x2], axis = 1))\n",
    "    return np.sum(L_hat)\n",
    "\n",
    "def nllh_inv(x1, x2):\n",
    "    \"\"\"\n",
    "    a[0], a[1], a[2] <=> k1, k2, k3\n",
    "    \"\"\"\n",
    "    eps = 1e-6\n",
    "    n = x1.shape[0]\n",
    "    C = 2*n*np.log(2*np.pi)\n",
    "    nllh = lambda a: np.inf if a[0]*a[2] - a[1]**2 <= 0\\\n",
    "                            else 0.5 * (C - n*np.log(a[0]*a[2] - a[1]**2)\n",
    "                                        + np.sum(a[0]*x1**2 + 2*a[1]*x1*x2 + a[2]*x2**2))\n",
    "    \n",
    "    grad_nllh = lambda a: np.array([- np.sign(a[2]) * np.inf if a[0]*a[2] - a[1]**2 <= 0\\\n",
    "                                    else 0.5 * (-n*a[2]/(a[0]*a[2]-a[1]**2) + np.sum(x1**2)),\n",
    "                                    np.sign(a[1]) * np.inf if a[0]*a[2] - a[1]**2 <= 0\\\n",
    "                                    else 1.0 * (n*a[1]/(a[0]*a[2]-a[1]**2) + np.sum(x1*x2)),\n",
    "                                    -np.sign(a[0]) * np.inf if a[0]*a[2] - a[1]**2 <= 0\\\n",
    "                                    else 0.5 * (-n*a[0]/(a[0]*a[2]-a[1]**2) + np.sum(x2**2))])\n",
    "    return nllh, grad_nllh"
   ]
  },
  {
   "cell_type": "markdown",
   "metadata": {},
   "source": [
    "Equality and inequality constraints in the concentration matrix parametrisation for the optimisation routine:"
   ]
  },
  {
   "cell_type": "code",
   "execution_count": 20,
   "metadata": {
    "code_folding": []
   },
   "outputs": [],
   "source": [
    "def ineq_constraints(kind):\n",
    "    assert kind in ['cov', 's11 >= s22', 's11 <= s22']\n",
    "    eps = 1e-7\n",
    "    if kind == 's11 >= s22':\n",
    "        fun = lambda a: np.array([a[0], a[2],\n",
    "                                  a[0]*a[2] - a[1]**2 - eps,\n",
    "                                  a[2] - a[0]])\n",
    "        jac = lambda a: np.array([[1.0, 0.0, 0.0], [0.0, 0.0, 1.0],\n",
    "                                  [a[2], -2*a[1], a[0]],\n",
    "                                  [-1.0, 0.0, 1.0]])\n",
    "    elif kind == 's11 <= s22':\n",
    "        fun = lambda a: np.array([a[0], a[2],\n",
    "                                  a[0]*a[2] - a[1]**2 - eps,\n",
    "                                  a[0] - a[2]])\n",
    "        jac = lambda a: np.array([[1.0, 0.0, 0.0], [0.0, 0.0, 1.0],\n",
    "                                  [a[2], -2*a[1], a[0]],\n",
    "                                  [1.0, 0.0, -1.0]])\n",
    "    elif kind == 'cov':\n",
    "        fun = lambda a: np.array([a[0], a[2],\n",
    "                                  a[0]*a[2] - a[1]**2 - eps])\n",
    "        jac = lambda a: np.array([[1.0, 0.0, 0.0], [0.0, 0.0, 1.0],\n",
    "                                  [a[2], -2*a[1], a[0]]])\n",
    "    ineq_cons = {'type' : 'ineq', 'fun' : fun, 'jac' : jac}\n",
    "    return ineq_cons\n",
    "\n",
    "def eq_constraints(c0):\n",
    "    fun = lambda a: np.array([c0*a[0] + a[1]])\n",
    "    jac = lambda a: np.array([c0, 1.0, 0.0])\n",
    "    eq_cons = {'type': 'eq', 'fun': fun, 'jac': jac}\n",
    "    return eq_cons"
   ]
  },
  {
   "cell_type": "markdown",
   "metadata": {},
   "source": [
    "Calculation of the test statistic for $c_0$ based on the data for $X_1$ and $X_2$:"
   ]
  },
  {
   "cell_type": "code",
   "execution_count": 21,
   "metadata": {
    "code_folding": []
   },
   "outputs": [],
   "source": [
    "def statistic(x1, x2, c0):\n",
    "    # Determining constraints for optimisation   \n",
    "    if np.abs(c0) >= 1:\n",
    "        ineq_cons = ineq_constraints('cov')\n",
    "        eq_cons = eq_constraints(c0)\n",
    "        constraints = [eq_cons, ineq_cons]\n",
    "    elif 0 < np.abs(c0) < 1:\n",
    "        ineq_cons = ineq_constraints('s11 >= s22')\n",
    "        eq_cons = eq_constraints(c0)\n",
    "        constraints = [eq_cons, ineq_cons]\n",
    "    else:\n",
    "        ineq_cons = ineq_constraints('s11 <= s22')\n",
    "        constraints = ineq_cons\n",
    "        \n",
    "    # estimates of concentration matrix entries\n",
    "    s11, s12, s22 = empirical_sigmas(x1, x2)\n",
    "    a0 = np.array([s22, -s12, s11]) / (s11 * s22 - s12**2)\n",
    "    # Getting function handles and minimisation with SLSQP\n",
    "    nllh, grad_nllh = nllh_inv(x1, x2)\n",
    "    res = minimize(nllh, a0, method = 'SLSQP', jac = grad_nllh,\n",
    "                   constraints = constraints,\n",
    "                   options = {'ftol' : 1e-9, 'maxiter': 1000})\n",
    "    return 2 * (llh(x1, x2) + res.fun)"
   ]
  },
  {
   "cell_type": "markdown",
   "metadata": {},
   "source": [
    "## Empirical CDF\n",
    "Function for simulating one model ($\\beta$, $\\sigma^2$ and direction of causality fixed) for different sample sizes:"
   ]
  },
  {
   "cell_type": "code",
   "execution_count": 22,
   "metadata": {
    "code_folding": []
   },
   "outputs": [],
   "source": [
    "def simulation_cdf(n_list, rep, beta, sigma, x1_dep):\n",
    "    \"\"\"\n",
    "    :param n_list: list of different sample_sizes\n",
    "    :param rep: number of repitions for every sample size\n",
    "    :param beta, sigma, x1_dep: parameters of model\n",
    "    \"\"\"\n",
    "    if x1_dep:\n",
    "        gamma0 = beta\n",
    "    else:\n",
    "        gamma0 = 0\n",
    "    result = np.ones((len(n_list), rep))\n",
    "    for i, n in enumerate(n_list):\n",
    "        for j in range(rep):\n",
    "            x1, x2 = data_generation(n, beta, sigma, x1_dep)\n",
    "            result[i, j] = statistic(x1, x2, gamma0)\n",
    "    return result"
   ]
  },
  {
   "cell_type": "markdown",
   "metadata": {},
   "source": [
    "We run a small simulation to show why the standard approach might lead to over rather conservative confidence intervals."
   ]
  },
  {
   "cell_type": "code",
   "execution_count": 53,
   "metadata": {},
   "outputs": [],
   "source": [
    "n_list = [10, 20, 50, 100]\n",
    "rep = 200\n",
    "beta = 0.5\n",
    "sigma = 1\n",
    "x1_dep = True\n",
    "result = simulation_cdf(n_list, rep, beta, sigma, x1_dep)"
   ]
  },
  {
   "cell_type": "markdown",
   "metadata": {},
   "source": [
    "Visualisation:"
   ]
  },
  {
   "cell_type": "code",
   "execution_count": 56,
   "metadata": {},
   "outputs": [
    {
     "name": "stderr",
     "output_type": "stream",
     "text": [
      "The PostScript backend does not support transparency; partially transparent artists will be rendered opaque.\n",
      "The PostScript backend does not support transparency; partially transparent artists will be rendered opaque.\n",
      "The PostScript backend does not support transparency; partially transparent artists will be rendered opaque.\n",
      "The PostScript backend does not support transparency; partially transparent artists will be rendered opaque.\n",
      "The PostScript backend does not support transparency; partially transparent artists will be rendered opaque.\n",
      "The PostScript backend does not support transparency; partially transparent artists will be rendered opaque.\n",
      "The PostScript backend does not support transparency; partially transparent artists will be rendered opaque.\n",
      "The PostScript backend does not support transparency; partially transparent artists will be rendered opaque.\n"
     ]
    },
    {
     "data": {
      "image/png": "[encoded data removed]",
      "text/plain": [
       "<Figure size 864x576 with 4 Axes>"
      ]
     },
     "metadata": {
      "needs_background": "light"
     },
     "output_type": "display_data"
    }
   ],
   "source": [
    "steps_val = np.linspace(0, 1, result.shape[1])\n",
    "cdf_x = np.linspace(0, 10, 500)\n",
    "chi1_val = chi2.cdf(cdf_x, df=1)\n",
    "chi12_val = 0.5 * (chi2.cdf(cdf_x, df = 1) + chi2.cdf(cdf_x, df =2))\n",
    "\n",
    "fig, axes = plt.subplots(nrows = 2, ncols = 2, **{'figsize' : (12, 8)})\n",
    "for i in range(result.shape[0]):\n",
    "    steps_x = np.sort(result[i,:])\n",
    "    row, col = int(i//2.0), int(i%2)\n",
    "    axes[row, col].plot(cdf_x, chi1_val, lw = 1.5, label = r\"$\\chi^2_1$\", color = 'C2')\n",
    "    axes[row, col].plot(cdf_x, chi12_val, lw = 1.5,\n",
    "                        label = r\"$0.5\\chi^2_1 + 0.5\\chi^2_2$\", color = 'C0')\n",
    "    axes[row, col].step(steps_x, steps_val, label = 'empirical', lw = 2, color = 'C3')\n",
    "    axes[row, col].set_title(\"n = {}\".format(n_list[i]), {'fontsize' : 'large'})\n",
    "    axes[row, col].set_xlim(0, 10)\n",
    "    axes[row, col].legend(title = 'CDF', loc = 'lower right', fontsize = 'large')\n",
    "    axes[row, col].tick_params(labelsize = 'large')\n",
    "fig.tight_layout()\n",
    "fig.savefig(\"cdfs.eps\")"
   ]
  },
  {
   "cell_type": "markdown",
   "metadata": {},
   "source": [
    "## Confidence intervals"
   ]
  },
  {
   "cell_type": "markdown",
   "metadata": {},
   "source": [
    "Calculating a $(1-\\alpha)$-confidence interval from the data:"
   ]
  },
  {
   "cell_type": "code",
   "execution_count": 23,
   "metadata": {
    "code_folding": []
   },
   "outputs": [],
   "source": [
    "def get_ci(x1, x2, alpha, low, high, h, two_step, alpha_1):\n",
    "    \"\"\"\n",
    "    :param x1, x2: data\n",
    "    :param alpha: allowed type-I error\n",
    "    :param low, high: range for testing c0's\n",
    "    :param h: step length / distance between neighbouring c0's\n",
    "    :param two_step: (bool) apply two-step approach\n",
    "    :param alpha_1: alpha for first step of two-step procedure\n",
    "    :returns: piecewise confidence interval\n",
    "    \"\"\"\n",
    "    # 1st step\n",
    "    if two_step:\n",
    "        assert alpha_1 < alpha\n",
    "    eps = 1e-6\n",
    "    # Getting quantiles\n",
    "    comp_1 = chi2.ppf(1 - alpha, df = 1) \n",
    "    if two_step:\n",
    "        n = x1.shape[0]\n",
    "        s11, s12, s22 = empirical_sigmas(x1, x2)\n",
    "        # We use that simulated data is normal\n",
    "        std = np.sqrt(2 * (s11**2 - 2 * s12 + s22**2))\n",
    "        q = norm.ppf(1 - alpha_1/2)\n",
    "        ci = (s11 - s22) + np.array([-q, q]) * std / np.sqrt(n)\n",
    "        if ci[0] <= 0 <= ci[1]:\n",
    "            comp_01 = chi2.ppf(1 - 2 * (alpha-alpha_1), df = 1)\n",
    "            cdf_12 = lambda x: 0.5 * (chi2.cdf(x, df = 1) + chi2.cdf(x, df = 2))\n",
    "            comp_12 = inversefunc(cdf_12, y_values = [1-(alpha-alpha_1)])[0]\n",
    "        else:\n",
    "            comp_01 = eps\n",
    "            comp_12 = chi2.ppf(1 - (alpha-alpha_1), df = 1)\n",
    "    else:\n",
    "        comp_01 = chi2.ppf(1 - 2 * alpha, df = 1)\n",
    "        cdf_12 = lambda x: 0.5 * (chi2.cdf(x, df = 1) + chi2.cdf(x, df = 2))\n",
    "        comp_12 = inversefunc(cdf_12, y_values = [1-alpha])[0]\n",
    "    \n",
    "    # 2nd step\n",
    "    S1_low, S1_high, S2 = [], [], []\n",
    "    c0 = low\n",
    "    while c0 <= high:\n",
    "        s = statistic(x1, x2, c0)\n",
    "        if c0 <= -1 and s <= comp_1:\n",
    "            S1_low.append(c0)\n",
    "        elif c0 >= 1 and s <= comp_1:\n",
    "            S1_high.append(c0)\n",
    "        elif 0 < np.abs(c0) < 1 and s <= comp_12:\n",
    "            S2.append(c0)\n",
    "        c0 = c0 + h\n",
    "    \n",
    "    def extract_ci(S):\n",
    "        return np.array([min(S) - 0.5*h, max(S) + 0.5*h]) if len(S) > 0 else None\n",
    "    I1_low = extract_ci(S1_low)\n",
    "    I1_high = extract_ci(S1_high)\n",
    "    I2 = extract_ci(S2)\n",
    "    \n",
    "    if low <= 0 <= high:\n",
    "        s = statistic(x1, x2, 0)\n",
    "        S3 = s <= comp_01\n",
    "    else:\n",
    "        S3 = False\n",
    "    # I1_low, I1_high, I2 are nd-arrays; S3 is bool\n",
    "    return I1_low, I1_high, I2, S3"
   ]
  },
  {
   "cell_type": "markdown",
   "metadata": {},
   "source": [
    "Methods for calculating confidence intervals on simulated data and evaluating the results:"
   ]
  },
  {
   "cell_type": "code",
   "execution_count": 24,
   "metadata": {},
   "outputs": [],
   "source": [
    "def contained(target, ci):\n",
    "    \"\"\"\n",
    "    Checking wether a confidence interval contains the target.\n",
    "    \"\"\"\n",
    "    found = False\n",
    "    for index, I in enumerate(ci):\n",
    "        if index < 3 and I is not None:\n",
    "            found = found or (I[0] <= target <= I[1])\n",
    "        else:\n",
    "            found = found or (target == 0 and I)\n",
    "    return found\n",
    "\n",
    "def torn_ci(ci):\n",
    "    \"\"\"\n",
    "    Checking wether a confidence interval is torn (True).\n",
    "    \"\"\"\n",
    "    I1_low, I1_high, I2, S3 = ci\n",
    "    eps = 1e-6\n",
    "    if I2 is None and S3 and (I1_low is not None or I1_high is not None):\n",
    "        return True\n",
    "    elif I1_low is not None and I2 is None and I1_high is not None:\n",
    "        return True\n",
    "    elif I2 is not None and ((I2[0] <= 0 <= I2[1] and not S3) or\n",
    "                             (not(I2[0] <= 0 <= I2[1]) and S3)):\n",
    "        return True\n",
    "    elif I1_low is not None and I2 is not None and I2[0] - I1_low[1] > eps:\n",
    "        return True\n",
    "    elif I1_high is not None and I2 is not None and I1_high[0] - I2[1] > eps:\n",
    "        return True\n",
    "    else:\n",
    "        return False\n",
    "    \n",
    "def simulation_ci(n_list, rep, beta, sigma, x1_dep,\n",
    "                  alpha = 0.05, h = 0.01, low = -2, high = 2,\n",
    "                  two_step = False, alpha_1 = 0.01, start_seed = 2020):\n",
    "    # parallelisation of computation\n",
    "    def one_simulation(n, i, j):\n",
    "        x1, x2 = data_generation(n, beta, sigma, x1_dep,\n",
    "                                 seed = start_seed + i*rep + j)\n",
    "        ci = get_ci(x1, x2, alpha, low, high, h, two_step, alpha_1)\n",
    "        target = beta if x1_dep else 0\n",
    "        c = contained(target, ci)\n",
    "        t = torn_ci(ci)\n",
    "        return c, t\n",
    "    parallel = Parallel(n_jobs = -1)\n",
    "    res = parallel(delayed(one_simulation)(n, i, j)\n",
    "                   for i, n in enumerate(n_list) for j in range(rep))\n",
    "    # extracting and transforming results\n",
    "    res_contained = [rc for (rc, rt) in res]\n",
    "    res_torn = [rt for (rc, rt) in res]\n",
    "    res_contained = np.array(res_contained).reshape(len(n_list), rep)\n",
    "    res_torn = np.array(res_torn).reshape(len(n_list), rep)\n",
    "    # Averaging\n",
    "    res_contained_avg = np.mean(res_contained, axis = 1)\n",
    "    res_torn_avg = np.mean(res_torn, axis = 1)\n",
    "    return res_contained_avg, res_torn_avg"
   ]
  },
  {
   "cell_type": "markdown",
   "metadata": {},
   "source": [
    "Visualisation of results with and without broken y-axis:"
   ]
  },
  {
   "cell_type": "code",
   "execution_count": null,
   "metadata": {},
   "outputs": [],
   "source": [
    "def visualisation_broken(n_list, res_contained, res_torn, alpha, legend_pos):\n",
    "    \"\"\"\n",
    "    Plotting share of covering and torn confidence intervals\n",
    "    leaving out [0.2, 0.8] on the y-axis.\n",
    "    \n",
    "    :param legend_pos: (tuple) 1st entry: legend in upper/lower plot; 2nd entry: position\n",
    "    \"\"\"\n",
    "    fig, axes = plt.subplots(nrows = 2, ncols = 3, sharex = True, **{'figsize': (12, 4)})\n",
    "    T = [r\"standard\", r\"two-step, $\\alpha_1 = 0.01$\", r\"two-step, $\\alpha_1 = 0.02$\"]\n",
    "    \n",
    "    for i, (res_c, res_t) in enumerate(zip(res_contained, res_torn)):\n",
    "        # Plotting and unabling excessive ticks\n",
    "        axes[0, i].plot(n_list, res_c, lw = 2, label = \"covering CI's\", color = 'C2')\n",
    "        axes[1, i].plot(n_list, res_t, lw = 2, label = \"torn CI's\", color = 'C0')\n",
    "        axes[0, i].hlines(y = 1-alpha, xmin = min(n_list), xmax = max(n_list),\n",
    "                          label = r\"$1-\\alpha$\", color = 'C3')\n",
    "        axes[0, i].set_ylim(0.8, 1.02)\n",
    "        axes[1, i].set_ylim(-0.02, 0.2)\n",
    "        axes[0, i].spines['bottom'].set_visible(False)\n",
    "        axes[1, i].spines['top'].set_visible(False)\n",
    "        axes[0, i].tick_params(axis = 'x', which = 'both',\n",
    "                               bottom = False, top = False, labelbottom = False)\n",
    "        # Cut-out slanted lines\n",
    "        d = .5\n",
    "        kwargs = dict(marker=[(-1, -d), (1, d)], markersize = 12,\n",
    "                      linestyle = \"none\", color = 'k', mec = 'k',\n",
    "                      mew = 1, clip_on = False)\n",
    "        axes[0, i].plot([0, 1], [0, 0], transform = axes[0, i].transAxes, **kwargs)\n",
    "        axes[1, i].plot([0, 1], [1, 1], transform = axes[1, i].transAxes, **kwargs)\n",
    "        # Title, ticks, labels\n",
    "        axes[0, i].set_title(T[i], {'fontsize' : 'large'})\n",
    "        axes[0, i].tick_params(labelsize = 'large')\n",
    "        axes[1, i].tick_params(labelsize = 'large')\n",
    "        axes[1, i].set_xlabel('sample size', fontsize = 'large')\n",
    "        # Legend\n",
    "        labels = [\"covering CI's\", \"torn CI's\", r\"$1-\\alpha$\"]\n",
    "        colors = ['C2', 'C0', 'C3']\n",
    "        lines = [matplotlib.lines.Line2D([0], [0], color = c, label = l)\n",
    "                 for c, l in zip(colors, labels)]\n",
    "        axes[legend_pos[1], i].legend(handles = lines, loc = legend_pos[0],\n",
    "                                      fontsize = 'large')\n",
    "    fig.tight_layout()\n",
    "    fig.savefig(\"figure.eps\")\n",
    "    fig.show()"
   ]
  },
  {
   "cell_type": "code",
   "execution_count": null,
   "metadata": {},
   "outputs": [],
   "source": [
    "def visualisation(n_list, res_contained, res_torn, alpha, legend_pos):\n",
    "    \"\"\"\n",
    "    Plotting share of covering and torn confidence intervals\n",
    "    \n",
    "    :param legend_pos: (tuple) 1st entry: not used; 2nd entry: position\n",
    "    \"\"\"\n",
    "    fig, axes = plt.subplots(nrows = 1, ncols = 3, **{'figsize': (12, 4)})\n",
    "    T = [r\"standard\", r\"two-step, $\\alpha_1 = 0.01$\", r\"two-step, $\\alpha_1 = 0.02$\"]\n",
    "    for i, (res_c, res_t) in enumerate(zip(res_contained, res_torn)):\n",
    "        # Plotting\n",
    "        axes[i].plot(n_list, res_c, lw = 2, label = \"covering CI's\", color = 'C2')\n",
    "        axes[i].plot(n_list, res_t, lw = 2, label = \"torn CI's\", color = 'C0')\n",
    "        axes[i].hlines(y = 1-alpha, xmin = min(n_list), xmax = max(n_list),\n",
    "                       label = r\"$1-\\alpha$\", color = 'C3')\n",
    "        axes[i].set_ylim(-0.02, 1.02)\n",
    "        # Title, ticks, labels\n",
    "        axes[i].set_title(T[i], {'fontsize' : 'large'})\n",
    "        axes[i].tick_params(labelsize = 'large')\n",
    "        axes[i].set_xlabel('sample size', fontsize = 'large')\n",
    "        # Legend\n",
    "        axes[i].legend(loc = legend_pos[0], fontsize = 'large')\n",
    "    fig.tight_layout()\n",
    "    fig.savefig(\"figure.eps\")\n",
    "    fig.show()"
   ]
  },
  {
   "cell_type": "markdown",
   "metadata": {},
   "source": [
    "## Experiments\n",
    "\n",
    "For the following experiments we fix $\\sigma^2 = 1$ as it only appears as a scaling factor and thus does not qualitatively change the results. Moreover, we consider only non-negative values of $\\beta$ due to symmetry and we set $\\alpha = 0.05$.\n",
    "\n",
    "Routine of one experiment:"
   ]
  },
  {
   "cell_type": "code",
   "execution_count": null,
   "metadata": {},
   "outputs": [],
   "source": [
    "def experiment(n_list = [100, 200, 300, 400, 500, 600, 700, 800, 900, 1000,\n",
    "                         1200, 1400, 1600, 1800, 2000],\n",
    "               rep = 200, beta = 1, sigma = 1, x1_dep = True, low = -1, high = 1,\n",
    "               alpha = 0.05, legend_pos = ('center right', 0)):\n",
    "    \"\"\"\n",
    "    Experiments for standard approach and two-step approach with alpha_1 = 0.01, 0.02\n",
    "    and subsequent visualisation\n",
    "    :param n_list: sample sizes\n",
    "    :param rep: number of simulated datasets for each sample size\n",
    "    :param beta, sigma, x1_dep: params for data generation\n",
    "    :param low, high, alpha: params for confidence interval calculation\n",
    "    :param legend_pos: placement of legend in plot\n",
    "    \"\"\"\n",
    "    res_c_000, res_t_000 = simulation_ci(n_list, rep, beta, sigma, x1_dep,\n",
    "                                         low = low, high = high, two_step = False)\n",
    "    res_c_001, res_t_001 = simulation_ci(n_list, rep, beta, sigma, x1_dep,\n",
    "                                         low = low, high = high, two_step = True, alpha_1 = 0.01)\n",
    "    res_c_002, res_t_002 = simulation_ci(n_list, rep, beta, sigma, x1_dep,\n",
    "                                         low = low, high = high, two_step = True, alpha_1 = 0.02)\n",
    "    \n",
    "    res_contained = [res_c_000, res_c_001, res_c_002]\n",
    "    res_torn = [res_t_000, res_t_001, res_t_002]\n",
    "    # Switching between plotting full y-axis or just [0, 0.2] and [0.8, 1]\n",
    "    if np.any(res_t_000 > 0.2) or np.any(res_t_001 > 0.2) or np.any(res_t_002 > 0.2):\n",
    "        visualisation(n_list, res_contained, res_torn, alpha, legend_pos)\n",
    "    else:\n",
    "        visualisation_broken(n_list, res_contained, res_torn, alpha, legend_pos)"
   ]
  },
  {
   "cell_type": "markdown",
   "metadata": {},
   "source": [
    "#### $\\beta = 0.5, X_1 \\leftarrow X_2$"
   ]
  },
  {
   "cell_type": "code",
   "execution_count": null,
   "metadata": {},
   "outputs": [],
   "source": [
    "experiment(rep = 500, beta = 0.5, low = -1, high = 2,\n",
    "           legend_pos = ('center right', 0))"
   ]
  },
  {
   "cell_type": "markdown",
   "metadata": {},
   "source": [
    "#### $\\beta = 1.1, X_1 \\leftarrow X_2$"
   ]
  },
  {
   "cell_type": "code",
   "execution_count": null,
   "metadata": {},
   "outputs": [],
   "source": [
    "experiment(rep = 500, beta = 1.1, low = -0.4, high = 2.6,\n",
    "           legend_pos = ('upper right', 1))"
   ]
  },
  {
   "cell_type": "markdown",
   "metadata": {},
   "source": [
    "#### $\\beta = 0.2, X_1 \\leftarrow X_2$"
   ]
  },
  {
   "cell_type": "code",
   "execution_count": null,
   "metadata": {},
   "outputs": [],
   "source": [
    "experiment(rep = 500, beta = 0.2, low = -1.3, high = 1.7,\n",
    "           legend_pos = ('lower right', 0))"
   ]
  },
  {
   "cell_type": "markdown",
   "metadata": {},
   "source": [
    "#### $\\beta = 0$"
   ]
  },
  {
   "cell_type": "code",
   "execution_count": null,
   "metadata": {},
   "outputs": [],
   "source": [
    "experiment(rep = 500, beta = 0, low = -1.5, high = 1.5,\n",
    "           legend_pos = ('lower right', 0))"
   ]
  },
  {
   "cell_type": "markdown",
   "metadata": {},
   "source": [
    "#### $\\beta = 0.5, X_1 \\rightarrow X_2$"
   ]
  },
  {
   "cell_type": "code",
   "execution_count": null,
   "metadata": {},
   "outputs": [],
   "source": [
    "experiment(rep = 500, beta = 0.5, low = -1, high = 2, x1_dep = False,\n",
    "           legend_pos = ('center right', 0))"
   ]
  },
  {
   "cell_type": "markdown",
   "metadata": {},
   "source": [
    "## More Experiments\n",
    "#### $\\beta = 1, X_1 \\leftarrow X_2$"
   ]
  },
  {
   "cell_type": "code",
   "execution_count": null,
   "metadata": {},
   "outputs": [],
   "source": [
    "experiment(rep = 500, beta = 1, low = -0.5, high = 2.5,\n",
    "           legend_pos = ('upper right', 1))"
   ]
  },
  {
   "cell_type": "markdown",
   "metadata": {},
   "source": [
    "#### $\\beta = 0.9, X_1 \\leftarrow X_2$"
   ]
  },
  {
   "cell_type": "code",
   "execution_count": null,
   "metadata": {},
   "outputs": [],
   "source": [
    "experiment(rep = 500, beta = 0.9, low = -0.6, high = 2.4,\n",
    "           legend_pos = ('upper right', 1))"
   ]
  },
  {
   "cell_type": "markdown",
   "metadata": {},
   "source": [
    "#### $\\beta = 0.3, X_1 \\leftarrow X_2$"
   ]
  },
  {
   "cell_type": "code",
   "execution_count": null,
   "metadata": {},
   "outputs": [],
   "source": [
    "experiment(rep = 500, beta = 0.3, low = -1.2, high = 1.8,\n",
    "           legend_pos = ('lower right', 0))"
   ]
  },
  {
   "cell_type": "markdown",
   "metadata": {},
   "source": [
    "#### $\\beta = 0.1, X_1 \\leftarrow X_2$"
   ]
  },
  {
   "cell_type": "code",
   "execution_count": null,
   "metadata": {},
   "outputs": [],
   "source": [
    "experiment(rep = 500, beta = 0.1, low = -1.4, high = 1.6,\n",
    "           legend_pos = ('lower right', 0))"
   ]
  },
  {
   "cell_type": "markdown",
   "metadata": {},
   "source": [
    "#### $\\beta = 0.2, X_1 \\rightarrow X_2$"
   ]
  },
  {
   "cell_type": "code",
   "execution_count": null,
   "metadata": {},
   "outputs": [],
   "source": [
    "experiment(rep = 500, beta = 0.2, low = -1.3, high = 1.7, x1_dep = False,\n",
    "           legend_pos = ('lower right', 0))"
   ]
  },
  {
   "cell_type": "markdown",
   "metadata": {},
   "source": [
    "#### $\\beta = 0.1, X_1 \\rightarrow X_2$"
   ]
  },
  {
   "cell_type": "code",
   "execution_count": null,
   "metadata": {},
   "outputs": [],
   "source": [
    "experiment(rep = 500, beta = 0.1, low = -1.4, high = 1.6, x1_dep = False,\n",
    "           legend_pos = ('lower right', 0))"
   ]
  }
 ],
 "metadata": {
  "kernelspec": {
   "display_name": "Python 3",
   "language": "python",
   "name": "python3"
  },
  "language_info": {
   "codemirror_mode": {
    "name": "ipython",
    "version": 3
   },
   "file_extension": ".py",
   "mimetype": "text/x-python",
   "name": "python",
   "nbconvert_exporter": "python",
   "pygments_lexer": "ipython3",
   "version": "3.7.3"
  }
 },
 "nbformat": 4,
 "nbformat_minor": 2
}
